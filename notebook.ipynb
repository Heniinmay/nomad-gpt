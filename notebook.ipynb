{
 "cells": [
  {
   "cell_type": "code",
   "execution_count": null,
   "metadata": {},
   "outputs": [],
   "source": [
    "import os\n",
    "import anthropic\n",
    "\n",
    "from langchain_anthropic.chat_models import ChatAnthropic\n",
    "from langchain.prompts import PromptTemplate, ChatPromptTemplate\n",
    "\n",
    "# Chat 모델 초기화\n",
    "chat_model = ChatAnthropic(model=\"claude-3-opus-20240229\", temperature=0.1)\n",
    "template = PromptTemplate.from_template(\n",
    "    \"What is the distance between {country_a} and {country_b}\"\n",
    ")\n",
    "\n",
    "template = ChatPromptTemplate.from_messages(\n",
    "    [\n",
    "        (\n",
    "            \"system\",\n",
    "            \"You are a cryptocurrency market expert. And you only reply in {language}.\",\n",
    "        ),\n",
    "        (\"ai\", \"안녕하세요!\"),\n",
    "        (\"human\", \"Do you know {something}?\"),\n",
    "    ]\n",
    ")\n",
    "\n",
    "prompt = template.format(language=\"Greek\", something=\"pendle's v3 release day\")\n",
    "\n",
    "chat_model.predict_messages(prompt)"
   ]
  },
  {
   "cell_type": "code",
   "execution_count": 16,
   "metadata": {},
   "outputs": [],
   "source": [
    "from langchain.schema import BaseOutputParser\n",
    "\n",
    "\n",
    "class CommaOutputParser(BaseOutputParser):\n",
    "    def parse(self, text):\n",
    "        item = text.strip().split(\",\")\n",
    "        return list(map(str.strip, item))  # 공백도 제거\n",
    "\n",
    "\n",
    "# p=CommaOutputParser()\n",
    "# p.parse(\"Hello, How,are,u,?\")"
   ]
  },
  {
   "cell_type": "code",
   "execution_count": 17,
   "metadata": {},
   "outputs": [],
   "source": [
    "template = ChatPromptTemplate.from_messages(\n",
    "    [\n",
    "        (\n",
    "            \"system\",\n",
    "            (\n",
    "                \"You are a list generating machine. Everything you are asked\"\n",
    "                \" wull be answered with a comma seperted list of max\"\n",
    "                \" {max_items}. Do not reply with anything else.\"\n",
    "            ),\n",
    "        ),\n",
    "        (\"human\", \"{question}\"),\n",
    "    ]\n",
    ")\n",
    "\n",
    "prompt = template.format(max_items=10, question=\"what are the colors?\")"
   ]
  },
  {
   "cell_type": "code",
   "execution_count": null,
   "metadata": {},
   "outputs": [],
   "source": [
    "from langchain_anthropic.chat_models import ChatAnthropic\n",
    "from langchain.callbacks import StreamingStdOutCallbackHandler\n",
    "chat_model = ChatAnthropic(model=\"claude-3-opus-20240229\", temperature=0.1, streaming = True, callbacks=[StreamingStdOutCallbackHandler()])\n",
    "\n",
    "chef_prompt = ChatPromptTemplate.from_messages([\n",
    "    (\n",
    "        \"system\",\n",
    "        (\n",
    "            \"You are a world-class international chef. You create easy to\"\n",
    "            \" follow recipies for any type of cuisine with easy to find\"\n",
    "            \" ingredients.\"\n",
    "        ),\n",
    "    ),\n",
    "    (\"human\", \"I want to cook {cuisine} food.\"),\n",
    "])\n",
    "\n",
    "chef_chain = chef_prompt | chat_model\n",
    "\n",
    "veg_chef_prompt = ChatPromptTemplate.from_messages(\n",
    "    [\n",
    "        (\n",
    "            \"system\",\n",
    "            (\n",
    "                \"You are a vegetarian chef specialized on making traditional recipes vegetarian. You find alternative ingredients and explain their preparation. You don't radically modify the recipe. If there is no alternative for a food just say you don't know how to recipe it.\"\n",
    "            ),\n",
    "        ),\n",
    "        (\"human\", \"{recipe}\"),\n",
    "    ]\n",
    ")\n",
    "\n",
    "veg_chain = veg_chef_prompt | chat_model\n",
    "final_chain = {\"recipe\":chef_chain} | veg_chain \n",
    "\n",
    "result = final_chain.invoke({\n",
    "  \"cuisine\" :\"indian\"\n",
    "})\n",
    "\n",
    "print(result)"
   ]
  },
  {
   "cell_type": "code",
   "execution_count": null,
   "metadata": {},
   "outputs": [],
   "source": []
  }
 ],
 "metadata": {
  "kernelspec": {
   "display_name": "env",
   "language": "python",
   "name": "python3"
  },
  "language_info": {
   "codemirror_mode": {
    "name": "ipython",
    "version": 3
   },
   "file_extension": ".py",
   "mimetype": "text/x-python",
   "name": "python",
   "nbconvert_exporter": "python",
   "pygments_lexer": "ipython3",
   "version": "3.11.9"
  }
 },
 "nbformat": 4,
 "nbformat_minor": 2
}
